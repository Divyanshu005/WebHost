{
  "nbformat": 4,
  "nbformat_minor": 0,
  "metadata": {
    "colab": {
      "name": "BoN2.ipynb",
      "provenance": [],
      "collapsed_sections": [],
      "authorship_tag": "ABX9TyMkH4+7hVRPfr9qfeiHcHHX",
      "include_colab_link": true
    },
    "kernelspec": {
      "name": "python3",
      "display_name": "Python 3"
    }
  },
  "cells": [
    {
      "cell_type": "markdown",
      "metadata": {
        "id": "view-in-github",
        "colab_type": "text"
      },
      "source": [
        "<a href=\"https://colab.research.google.com/github/Divyanshu005/WebHost/blob/master/BoN2.ipynb\" target=\"_parent\"><img src=\"https://colab.research.google.com/assets/colab-badge.svg\" alt=\"Open In Colab\"/></a>"
      ]
    },
    {
      "cell_type": "code",
      "metadata": {
        "id": "s9yQJDr-b5kS",
        "colab_type": "code",
        "colab": {}
      },
      "source": [
        ""
      ],
      "execution_count": null,
      "outputs": []
    },
    {
      "cell_type": "markdown",
      "metadata": {
        "id": "NqSs6hlhb-98",
        "colab_type": "text"
      },
      "source": [
        "# **The Battle of Neighborhoods  >Data Description**\n"
      ]
    },
    {
      "cell_type": "markdown",
      "metadata": {
        "id": "jHQaGyNMcKJo",
        "colab_type": "text"
      },
      "source": [
        "**DataSet** > https://en.wikipedia.org/wiki/List_of_postal_codes_of_Canada:_M\n",
        "\n",
        "with the help of above link we can scrap the data and make  use  of it."
      ]
    },
    {
      "cell_type": "markdown",
      "metadata": {
        "id": "YRRhvq0ncr26",
        "colab_type": "text"
      },
      "source": [
        "*ForeSquare API: To gain Location Information we need to use this API.\n",
        "ForeSquare is a location data provider with various kind of information.\n",
        "This API will help us to solve our problem statement because it is very close to what we are expecting.\n",
        "\n",
        " After finding the list of neighborhoods, we then connect to the Foursquare API to gather information about venues inside each and every neighborhood. For each neighborhood, we have chosen the radius to be 100 meter.\n",
        "\n",
        "  Foursquare contained information of venues within a specified distance of the longitude and latitude of the postcodes."
      ]
    },
    {
      "cell_type": "markdown",
      "metadata": {
        "id": "7Np9dxX_dv5s",
        "colab_type": "text"
      },
      "source": [
        "**Clustering**\n",
        "\n",
        "Clustering we can apply on data"
      ]
    },
    {
      "cell_type": "markdown",
      "metadata": {
        "id": "vMW5FtChdwKU",
        "colab_type": "text"
      },
      "source": [
        ""
      ]
    },
    {
      "cell_type": "code",
      "metadata": {
        "id": "pgKQMSFkcDo2",
        "colab_type": "code",
        "colab": {}
      },
      "source": [
        ""
      ],
      "execution_count": null,
      "outputs": []
    }
  ]
}