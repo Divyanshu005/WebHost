{
  "nbformat": 4,
  "nbformat_minor": 0,
  "metadata": {
    "colab": {
      "name": "BoN1.ipynb",
      "provenance": [],
      "collapsed_sections": [],
      "authorship_tag": "ABX9TyOfnZGW0GJ/YBHL5Bk3R1Ca",
      "include_colab_link": true
    },
    "kernelspec": {
      "name": "python3",
      "display_name": "Python 3"
    }
  },
  "cells": [
    {
      "cell_type": "markdown",
      "metadata": {
        "id": "view-in-github",
        "colab_type": "text"
      },
      "source": [
        "<a href=\"https://colab.research.google.com/github/Divyanshu005/WebHost/blob/master/BoN1.ipynb\" target=\"_parent\"><img src=\"https://colab.research.google.com/assets/colab-badge.svg\" alt=\"Open In Colab\"/></a>"
      ]
    },
    {
      "cell_type": "code",
      "metadata": {
        "id": "a_Hy70NXUusE",
        "colab_type": "code",
        "colab": {}
      },
      "source": [
        ""
      ],
      "execution_count": null,
      "outputs": []
    },
    {
      "cell_type": "markdown",
      "metadata": {
        "id": "aY8ItHX7Vh18",
        "colab_type": "text"
      },
      "source": [
        "# The Battle of Neighborhoods | Business Proposal"
      ]
    },
    {
      "cell_type": "markdown",
      "metadata": {
        "id": "wm1uOD6aVs_N",
        "colab_type": "text"
      },
      "source": [
        "**Introduction**"
      ]
    },
    {
      "cell_type": "markdown",
      "metadata": {
        "id": "ektPBsohVvWg",
        "colab_type": "text"
      },
      "source": [
        "The main goal behind this project is to help people in exploring better facility around there neighborhood, this will give a great choice of selecting neighborhodd surrounded them, and helps them to take decision smartly out of other members in Scarborough, Toranto.\n",
        "\n",
        "Lots of people are moving to many different places of canada, and they need to do lots of research for house price , locality, primary health care , child care , school etc.\n",
        "This project is for  people who are looking for better neighborhoods like better facility and ease of access.\n",
        "\n",
        "This Project aim to create an analysis of features for a people moving to Scarborough to search a best neighborhood as a comparative analysis between neighborhoods. The features include median housing price and better school according to ratings, crime rates of that particular area, road connectivity, weather conditions, good management for emergency, water resources both freash and waste water and excrement conveyed in sewers and recreational facilities.\n",
        "\n",
        "It will help people to get awareness of the area and neighborhood before moving to a new city, state, country or place for their work or to start a new fresh life.\n",
        "\n",
        "\n"
      ]
    },
    {
      "cell_type": "markdown",
      "metadata": {
        "id": "VHkiXhi7Vva4",
        "colab_type": "text"
      },
      "source": [
        "**How problem can be solved?**\n",
        "\n",
        "\n",
        "\n",
        "*   Sorted list of house in terms of housing prices in a ascending or descending order.\n",
        "\n",
        "*   Sorted list of schools in terms of location, fees, rating and reviews.\n",
        "\n",
        "\n",
        "\n",
        "\n",
        "\n"
      ]
    },
    {
      "cell_type": "markdown",
      "metadata": {
        "id": "sHMZT9huVvUG",
        "colab_type": "text"
      },
      "source": [
        "**Location**\n",
        "\n",
        "Scarborough is one of the most diverse and multicultural areas in the Greater Toronto Area,  home to various religious groups and places of worship, very good connectivity."
      ]
    },
    {
      "cell_type": "markdown",
      "metadata": {
        "id": "Xb-ottMOa9J3",
        "colab_type": "text"
      },
      "source": [
        ""
      ]
    },
    {
      "cell_type": "markdown",
      "metadata": {
        "id": "fp41kZVQa9Ng",
        "colab_type": "text"
      },
      "source": [
        "**How we deal with problem**\n",
        "\n",
        "We will define proper work flow to do task,\n",
        "we select appropriate approach to accomplish the task, leverage the best libraries. "
      ]
    },
    {
      "cell_type": "markdown",
      "metadata": {
        "id": "4KTGoyCva9IH",
        "colab_type": "text"
      },
      "source": [
        ""
      ]
    },
    {
      "cell_type": "code",
      "metadata": {
        "id": "jtwRRdChakjf",
        "colab_type": "code",
        "colab": {}
      },
      "source": [
        ""
      ],
      "execution_count": null,
      "outputs": []
    }
  ]
}